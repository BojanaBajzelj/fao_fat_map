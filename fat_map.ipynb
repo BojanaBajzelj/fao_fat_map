{
 "cells": [
  {
   "cell_type": "markdown",
   "metadata": {},
   "source": [
    "# FAO\n",
    "\n",
    "Find out which fats people eat"
   ]
  },
  {
   "cell_type": "code",
   "execution_count": null,
   "metadata": {},
   "outputs": [],
   "source": [
    "import geopandas as gpd\n",
    "import numpy as np\n",
    "import pandas as pd\n",
    "%matplotlib inline\n",
    "import matplotlib.pyplot as plt\n",
    "\n",
    "plt.rcParams[\"figure.figsize\"] = (20,10)"
   ]
  },
  {
   "cell_type": "markdown",
   "metadata": {},
   "source": [
    "## Load in the data"
   ]
  },
  {
   "cell_type": "code",
   "execution_count": null,
   "metadata": {},
   "outputs": [],
   "source": [
    "countries = pd.read_csv('data/FAOSTAT_data_10-25-2019.csv')"
   ]
  },
  {
   "cell_type": "code",
   "execution_count": null,
   "metadata": {},
   "outputs": [],
   "source": [
    "items = pd.read_csv('data/FAOSTAT_ct_fat_items.csv')\n",
    "sorted(items['Item'].unique())"
   ]
  },
  {
   "cell_type": "code",
   "execution_count": null,
   "metadata": {},
   "outputs": [],
   "source": [
    "items = items[['Country Code', 'Country', 'Year', 'Item', 'Value']]"
   ]
  },
  {
   "cell_type": "markdown",
   "metadata": {},
   "source": [
    "## Aggregate items\n",
    "\n",
    "1. Set up a dictionary which maps items to new names\n",
    "2. Sum over the aggregated items\n",
    "3. For each country code, country & year pick the item with the maximum value"
   ]
  },
  {
   "cell_type": "code",
   "execution_count": null,
   "metadata": {},
   "outputs": [],
   "source": [
    "aggregate = {'Butter, Ghee': 'Dairy',\n",
    "             'Cream': 'Dairy',\n",
    "             'Milk - Excluding Butter': 'Dairy',\n",
    "             'Oilcrops Oil, Other': 'Oilcrops, Other',\n",
    "             'Cottonseed Oil': 'Oilcrops, Other',\n",
    "             'Oilcrops, Other': 'Oilcrops, Other',\n",
    "             'Groundnut Oil': 'Groundnuts',\n",
    "             'Groundnuts (Shelled Eq)': 'Groundnuts',\n",
    "             'Maize Germ Oil': 'Oilcrops, Other',\n",
    "             'Maize and products': 'Cereals',\n",
    "             'Wheat and products': 'Cereals', \n",
    "             'Rice (Milled Equivalent)': 'Cereals',\n",
    "             'Barley and products': 'Cereals', \n",
    "             'Maize and products': 'Cereals', \n",
    "             'Millet and products': 'Cereals',\n",
    "             'Cereals, Other': 'Cereals',\n",
    "             'Oats': 'Cereals'\n",
    "            }"
   ]
  },
  {
   "cell_type": "code",
   "execution_count": null,
   "metadata": {},
   "outputs": [],
   "source": [
    "items['Item_Dairy'] = items['Item'].apply(lambda x: x if x not in aggregate else aggregate[x])"
   ]
  },
  {
   "cell_type": "code",
   "execution_count": null,
   "metadata": {},
   "outputs": [],
   "source": [
    "items = items.groupby(by=['Country Code', 'Country', 'Year', 'Item_Dairy']).sum().reset_index()"
   ]
  },
  {
   "cell_type": "code",
   "execution_count": null,
   "metadata": {},
   "outputs": [],
   "source": [
    "idx = items.groupby(\n",
    "    by=['Country Code', 'Country', 'Year'])['Value'].transform(max) == items['Value']\n",
    "max_items = items[idx]"
   ]
  },
  {
   "cell_type": "code",
   "execution_count": null,
   "metadata": {},
   "outputs": [],
   "source": [
    "max_items"
   ]
  },
  {
   "cell_type": "code",
   "execution_count": null,
   "metadata": {},
   "outputs": [],
   "source": [
    "item_names = max_items['Item_Dairy'].unique()\n",
    "mapping = {name: idx for idx, name in enumerate(item_names)}\n",
    "if np.nan not in mapping.keys():\n",
    "    mapping[np.nan] = len(mapping)"
   ]
  },
  {
   "cell_type": "markdown",
   "metadata": {},
   "source": [
    "# Join with countries to get 3-letter countrycode\n",
    "\n",
    "1. Set country code as the index for both dataframes\n",
    "2. Join on country code to obtain ISO3 country code\n",
    "3. Import country outlines\n",
    "4. Join items with outlines on ISO3 index"
   ]
  },
  {
   "cell_type": "code",
   "execution_count": null,
   "metadata": {},
   "outputs": [],
   "source": [
    "countries = countries.reset_index().set_index('Country Code')"
   ]
  },
  {
   "cell_type": "code",
   "execution_count": null,
   "metadata": {},
   "outputs": [],
   "source": [
    "max_items = max_items.reset_index().set_index('Country Code')"
   ]
  },
  {
   "cell_type": "code",
   "execution_count": null,
   "metadata": {},
   "outputs": [],
   "source": [
    "max_items = max_items.join(countries[['ISO3 Code']])"
   ]
  },
  {
   "cell_type": "code",
   "execution_count": null,
   "metadata": {},
   "outputs": [],
   "source": [
    "max_items = max_items.set_index('ISO3 Code')"
   ]
  },
  {
   "cell_type": "code",
   "execution_count": null,
   "metadata": {},
   "outputs": [],
   "source": [
    "world = gpd.GeoDataFrame.from_file('data/geo-countries_zip/archive/countries.geojson')"
   ]
  },
  {
   "cell_type": "code",
   "execution_count": null,
   "metadata": {},
   "outputs": [],
   "source": [
    "world = world.set_index('ISO_A3')"
   ]
  },
  {
   "cell_type": "code",
   "execution_count": null,
   "metadata": {},
   "outputs": [],
   "source": [
    "max_items = world.join(max_items)"
   ]
  },
  {
   "cell_type": "code",
   "execution_count": null,
   "metadata": {},
   "outputs": [],
   "source": [
    "max_items['coding'] = max_items['Item_Dairy'].apply(lambda x: mapping[x])\n",
    "max_items"
   ]
  },
  {
   "cell_type": "markdown",
   "metadata": {},
   "source": [
    "# Plot the map\n",
    "Download country outlines from https://datahub.io/core/geo-countries#resource-geo-countries_zip"
   ]
  },
  {
   "cell_type": "code",
   "execution_count": null,
   "metadata": {},
   "outputs": [],
   "source": [
    "colours = {'Dairy': '#a6cee3',\n",
    "           'Soyabean Oil': '#1f78b4',\n",
    "           'Poultry Meat': '#b2df8a',\n",
    "           'Sunflowerseed Oil': '#33a02c',\n",
    "           'Palm Oil':  '#fb9a99',\n",
    "           'Pigmeat':  '#e31a1c',\n",
    "           'Fats, Animals, Raw':  '#fdbf6f',\n",
    "           'Coconuts - Incl Copra':  '#ff7f00',\n",
    "           'Groundnuts':  '#cab2d6',\n",
    "           'Rape and Mustard Oil':  '#6a3d9a',\n",
    "           'Cereals':  '#ffff99',\n",
    "           'Olive Oil':  '#b15928',\n",
    "           'Oilcrops, Other':  '#a6cee3' ,\n",
    "           'Pelagic Fish':  '#1f78b4',\n",
    "           'Mutton & Goat Meat':  '#b2df8a',\n",
    "           np.nan: '#ffffff'}\n",
    "\n",
    "colours = ['#a6cee3',\n",
    "           '#1f78b4',\n",
    "           '#b2df8a',\n",
    "           '#33a02c',\n",
    "           '#fb9a99',\n",
    "           '#e31a1c',\n",
    "           '#fdbf6f',\n",
    "           '#ff7f00',\n",
    "           '#cab2d6',\n",
    "           '#6a3d9a',\n",
    "           '#ffff99',\n",
    "           '#b15928',\n",
    "           '#a6cee3',\n",
    "           '#1f78b4',\n",
    "           '#b2df8a',\n",
    "           '#ffffff']\n",
    "\n",
    "from matplotlib.colors import LinearSegmentedColormap\n",
    "cmap = LinearSegmentedColormap.from_list(\n",
    "    'mycmap', [(x, y) for x, y in zip(np.linspace(0,1, len(colours)), colours)])\n"
   ]
  },
  {
   "cell_type": "code",
   "execution_count": null,
   "metadata": {},
   "outputs": [],
   "source": [
    "fig, ax = plt.subplots(1, 1)\n",
    "max_items.plot(ax=ax,\n",
    "               column='coding', \n",
    "               cmap=cmap, \n",
    "               categorical=True, \n",
    "               legend=True, \n",
    "               edgecolor='#000000'\n",
    "               )\n",
    "# handles, labels = ax.get_legend_handles_labels()\n",
    "# ax.legend(list(mapping.keys()))\n",
    "fig.savefig('fats.pdf')\n"
   ]
  },
  {
   "cell_type": "code",
   "execution_count": null,
   "metadata": {},
   "outputs": [],
   "source": [
    "legend = ax.get_legend()"
   ]
  },
  {
   "cell_type": "code",
   "execution_count": null,
   "metadata": {},
   "outputs": [],
   "source": [
    "help(legend)"
   ]
  },
  {
   "cell_type": "code",
   "execution_count": null,
   "metadata": {},
   "outputs": [],
   "source": [
    "cmap = sbn.choose_colorbrewer_palette('sequential', as_cmap=True)"
   ]
  },
  {
   "cell_type": "code",
   "execution_count": null,
   "metadata": {},
   "outputs": [],
   "source": [
    "list(enumerate(cmap))"
   ]
  },
  {
   "cell_type": "code",
   "execution_count": null,
   "metadata": {},
   "outputs": [],
   "source": [
    "list(mapping.keys())"
   ]
  },
  {
   "cell_type": "code",
   "execution_count": null,
   "metadata": {},
   "outputs": [],
   "source": [
    "mapping"
   ]
  },
  {
   "cell_type": "code",
   "execution_count": null,
   "metadata": {},
   "outputs": [],
   "source": []
  }
 ],
 "metadata": {
  "kernelspec": {
   "display_name": "Python 3",
   "language": "python",
   "name": "python3"
  },
  "language_info": {
   "codemirror_mode": {
    "name": "ipython",
    "version": 3
   },
   "file_extension": ".py",
   "mimetype": "text/x-python",
   "name": "python",
   "nbconvert_exporter": "python",
   "pygments_lexer": "ipython3",
   "version": "3.7.3"
  }
 },
 "nbformat": 4,
 "nbformat_minor": 2
}
